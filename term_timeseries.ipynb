{
 "cells": [
  {
   "cell_type": "code",
   "execution_count": null,
   "metadata": {
    "collapsed": false
   },
   "outputs": [],
   "source": [
    "# -*- coding: utf-8 -*-\n",
    "from scipy.cluster import hierarchy\n",
    "from processor import MDB, batch_process, text_process\n",
    "from utils import load_obj, dump_obj, progress\n",
    "from metrics import DTW_hybrid\n",
    "from pyculiarity import detect_ts\n",
    "from sklearn.feature_extraction.text import CountVectorizer\n",
    "from sklearn.metrics.pairwise import pairwise_distances\n",
    "\n",
    "import re\n",
    "import math\n",
    "import datetime\n",
    "import numpy as np\n",
    "import fastcluster\n",
    "import pandas as pd\n",
    "import matplotlib.pyplot as plt\n",
    "from datetime import datetime\n",
    "import concurrent.futures \n",
    "%matplotlib inline"
   ]
  },
  {
   "cell_type": "code",
   "execution_count": 1,
   "metadata": {
    "collapsed": true
   },
   "outputs": [],
   "source": []
  },
  {
   "cell_type": "code",
   "execution_count": 13,
   "metadata": {
    "collapsed": false
   },
   "outputs": [],
   "source": [
    "if not l:\n",
    "    print 'a'"
   ]
  },
  {
   "cell_type": "code",
   "execution_count": 2,
   "metadata": {
    "collapsed": false
   },
   "outputs": [],
   "source": []
  },
  {
   "cell_type": "code",
   "execution_count": 3,
   "metadata": {
    "collapsed": false
   },
   "outputs": [
    {
     "name": "stdout",
     "output_type": "stream",
     "text": [
      "connected to database\n"
     ]
    }
   ],
   "source": [
    "p = MDB('tweets', 1, port = 27017)"
   ]
  },
  {
   "cell_type": "code",
   "execution_count": 11,
   "metadata": {
    "collapsed": true
   },
   "outputs": [],
   "source": [
    "l = 1"
   ]
  },
  {
   "cell_type": "code",
   "execution_count": null,
   "metadata": {
    "collapsed": false
   },
   "outputs": [],
   "source": []
  },
  {
   "cell_type": "code",
   "execution_count": 6,
   "metadata": {
    "collapsed": false
   },
   "outputs": [
    {
     "name": "stdout",
     "output_type": "stream",
     "text": [
      "connected to database\n"
     ]
    }
   ],
   "source": [
    "import re\n",
    "from utils import progress\n",
    "from processor import MDB, text_process\n",
    "\n",
    "f = open('tw_ht_corpus.txt', 'a')\n",
    "p = MDB('tweets', 1, port = 27017)\n",
    "cols = p.client['tweets'].collection_names()\n",
    "cols.remove('SPB')\n",
    "cols.remove('Moscow')\n",
    "\n",
    "i = 0\n",
    "container = []\n",
    "b_size = 1000\n",
    "\n",
    "counts = []\n",
    "for c in cols:\n",
    "    ml = p.client['tweets'][c].find()\n",
    "    counts.append(ml.count())\n",
    "    \n",
    "total = sum(counts)\n",
    "print 'total:', total\n",
    "\n",
    "for c in cols:\n",
    "    ml = p.client['tweets'][c].find()\n",
    "    for t in ml:\n",
    "        try:\n",
    "            dt = text_process(t)\n",
    "            progress(i, total)\n",
    "            if dt:\n",
    "                f.write(dt + '\\n')\n",
    "        except Exception as e:\n",
    "            print e\n",
    "        finally:\n",
    "            i += 1"
   ]
  },
  {
   "cell_type": "code",
   "execution_count": null,
   "metadata": {
    "collapsed": false
   },
   "outputs": [],
   "source": []
  },
  {
   "cell_type": "code",
   "execution_count": null,
   "metadata": {
    "collapsed": false
   },
   "outputs": [],
   "source": [
    "for c in cls:\n",
    "    ml = p.client['tweets'][c].find()\n",
    "    for t in ml:\n",
    "        if len(container) < b_size:\n",
    "            container.append(t)\n",
    "        else:\n",
    "            dat = []\n",
    "            with concurrent.futures.ProcessPoolExecutor(max_workers=1) as executor:\n",
    "                docs = {executor.submit(text_process, doc) : doc for doc in container}\n",
    "                for future in concurrent.futures.as_completed(docs):\n",
    "                    try:\n",
    "                        data = future.result(timeout = 1)\n",
    "                        if data:\n",
    "                            i += 1\n",
    "                            progress(i, total)\n",
    "                            dat.append(data + '\\n')\n",
    "                    except Exception as e:\n",
    "                        print(e)\n",
    "            #f.writelines(dat)\n",
    "            container = []"
   ]
  },
  {
   "cell_type": "code",
   "execution_count": null,
   "metadata": {
    "collapsed": false
   },
   "outputs": [],
   "source": []
  },
  {
   "cell_type": "code",
   "execution_count": null,
   "metadata": {
    "collapsed": false
   },
   "outputs": [],
   "source": []
  },
  {
   "cell_type": "code",
   "execution_count": null,
   "metadata": {
    "collapsed": false
   },
   "outputs": [],
   "source": []
  },
  {
   "cell_type": "code",
   "execution_count": null,
   "metadata": {
    "collapsed": false
   },
   "outputs": [],
   "source": []
  },
  {
   "cell_type": "code",
   "execution_count": null,
   "metadata": {
    "collapsed": true
   },
   "outputs": [],
   "source": []
  },
  {
   "cell_type": "code",
   "execution_count": null,
   "metadata": {
    "collapsed": false
   },
   "outputs": [],
   "source": []
  },
  {
   "cell_type": "code",
   "execution_count": null,
   "metadata": {
    "collapsed": false
   },
   "outputs": [],
   "source": []
  },
  {
   "cell_type": "code",
   "execution_count": null,
   "metadata": {
    "collapsed": false
   },
   "outputs": [],
   "source": []
  },
  {
   "cell_type": "code",
   "execution_count": null,
   "metadata": {
    "collapsed": false
   },
   "outputs": [],
   "source": [
    "def retrieve_from_timewindow(ms, col, startEpoch, endEpoch):\n",
    "    print 'querying..'\n",
    "    m = ms.db[col].find({\"payload.created_at\":{'$gte':startEpoch, '$lte':endEpoch}})\n",
    "    dev = []\n",
    "    print 'retrieving..'\n",
    "    for i, obj in enumerate(m):\n",
    "        progress(i, 1, mode = 2)\n",
    "        dev.append(obj)\n",
    "    print ''\n",
    "    print 'retrieved', len(dev), 'documents from window'\n",
    "    return dev"
   ]
  },
  {
   "cell_type": "code",
   "execution_count": null,
   "metadata": {
    "collapsed": false
   },
   "outputs": [],
   "source": [
    "datetime.fromordinal"
   ]
  },
  {
   "cell_type": "code",
   "execution_count": null,
   "metadata": {
    "collapsed": false
   },
   "outputs": [],
   "source": [
    "def tstamp_to_datetime(ts):\n",
    "    return pd.to_datetime(datetime.fromtimestamp(int(ts)).strftime('%Y-%m-%d %H:%M:%S'))\n",
    "\n",
    "def find_window(t, start, window):\n",
    "    w = math.floor((t-start-0.1)/window)\n",
    "    if w < 0: w = 0.0\n",
    "    return w\n",
    "\n",
    "def movingaverage(interval, window_size):\n",
    "    window = np.ones(int(window_size))/float(window_size)\n",
    "    return np.convolve(interval, window, 'same')\n",
    "\n",
    "def hasNumbers(inputString):\n",
    "    return any(char.isdigit() for char in inputString)\n",
    "\n",
    "def hasBS(inputString):\n",
    "    if \"_\" in inputString:\n",
    "        return 1\n",
    "    else:\n",
    "        return 0"
   ]
  },
  {
   "cell_type": "code",
   "execution_count": null,
   "metadata": {
    "collapsed": false
   },
   "outputs": [],
   "source": [
    "dev = pc\n",
    "mins = 120\n",
    "\n",
    "print 'processing', len(dev), 'documents'\n",
    "\n",
    "t_start = dev[0]['timestamp']\n",
    "t_end = dev[-1]['timestamp']\n",
    "t_span = t_end - t_start\n",
    "resolution = int(math.floor(t_span/(60*mins)))\n",
    "t_window = t_span/resolution\n",
    "\n",
    "print 'window size =', mins, 'minutes'\n",
    "\n",
    "w_corp = [' '.join(m['words']) for m in dev]\n",
    "CV = CountVectorizer(min_df=3, max_df=len(dev)/100)\n",
    "wtr = CV.fit_transform(w_corp)\n",
    "voc = CV.get_feature_names()\n",
    "\n",
    "print 'vocab size =', len(voc) \n",
    "\n",
    "wn = {}\n",
    "\n",
    "for w in range(resolution):\n",
    "    wn[w] = {}\n",
    "    wn[w]['counts'] = np.zeros((1, len(voc)))\n",
    "    wn[w]['timestamp'] = tstamp_to_datetime(t_start + t_window * w)\n",
    "\n",
    "for i, d in enumerate(dev):\n",
    "    w = find_window(d['timestamp'], t_start, t_window)\n",
    "    wn[w]['counts'] += wtr[i].toarray()\n",
    "    \n",
    "nnz = []\n",
    "for k in wn.keys():\n",
    "    nonzero = len(wn[k]['counts'].nonzero()[0])\n",
    "    if nonzero > 0:\n",
    "        nnz.append(wn[k])\n",
    "\n",
    "print 'found', len(nnz), 'nonzero windows'\n",
    "\n",
    "M = []\n",
    "T = []\n",
    "for n in nnz:\n",
    "    M.append(n['counts'][0])\n",
    "    T.append(n['timestamp'])\n",
    "\n",
    "M = np.array(M).T"
   ]
  },
  {
   "cell_type": "code",
   "execution_count": null,
   "metadata": {
    "collapsed": false
   },
   "outputs": [],
   "source": [
    "P = []\n",
    "ind = []\n",
    "for term in range(M.shape[0]):\n",
    "    if M[term].max() > 10 and len(voc[term]) > 3 and not hasNumbers(voc[term]) and not hasBS(voc[term]):\n",
    "        ind.append(term)\n",
    "        P.append(M[term])\n",
    "        \n",
    "P = np.array(P)\n",
    "cvoc = [voc[i] for i in ind]"
   ]
  },
  {
   "cell_type": "code",
   "execution_count": null,
   "metadata": {
    "collapsed": false
   },
   "outputs": [],
   "source": []
  },
  {
   "cell_type": "code",
   "execution_count": null,
   "metadata": {
    "collapsed": false
   },
   "outputs": [],
   "source": []
  },
  {
   "cell_type": "code",
   "execution_count": null,
   "metadata": {
    "collapsed": false
   },
   "outputs": [],
   "source": [
    "def estimated_autocorrelation(x):\n",
    "    n = len(x)\n",
    "    variance = x.var()\n",
    "    x = x-x.mean()\n",
    "    r = np.correlate(x, x, mode = 'full')[-n:]\n",
    "    assert np.allclose(r, np.array([(x[:n-k]*x[-(n-k):]).sum() for k in range(n)]))\n",
    "    result = r/(variance*(np.arange(n, 0, -1)))\n",
    "    return result"
   ]
  },
  {
   "cell_type": "code",
   "execution_count": null,
   "metadata": {
    "collapsed": false
   },
   "outputs": [],
   "source": []
  },
  {
   "cell_type": "code",
   "execution_count": null,
   "metadata": {
    "collapsed": false
   },
   "outputs": [],
   "source": []
  },
  {
   "cell_type": "code",
   "execution_count": null,
   "metadata": {
    "collapsed": false
   },
   "outputs": [],
   "source": []
  },
  {
   "cell_type": "code",
   "execution_count": null,
   "metadata": {
    "collapsed": false
   },
   "outputs": [],
   "source": [
    "def pr_dist(M):\n",
    "    dim = M.shape[0]\n",
    "    R = np.zeros((dim,dim))\n",
    "    c = 0\n",
    "    for i in range(dim):\n",
    "        for j in range(dim):\n",
    "            progress(i*dim + j, dim*dim, skip = 10)\n",
    "            if i == j:\n",
    "                R[i][j] = 0\n",
    "            elif not R[i][j] and not R[j][i]:\n",
    "                r = DTWDistance(M[i], M[j])\n",
    "                c += 1\n",
    "                R[i][j] = r\n",
    "                R[j][i] = r\n",
    "    return R, c"
   ]
  },
  {
   "cell_type": "code",
   "execution_count": null,
   "metadata": {
    "collapsed": false
   },
   "outputs": [],
   "source": [
    "st = datetime.now()\n",
    "s_sim = pairwise_distances(P, metric=DTW_hybrid, n_jobs=12)\n",
    "en = datetime.now()\n",
    "print str(en-st)"
   ]
  },
  {
   "cell_type": "code",
   "execution_count": null,
   "metadata": {
    "collapsed": false
   },
   "outputs": [],
   "source": [
    "s_sim = load_obj('data/SPB_DTW')"
   ]
  },
  {
   "cell_type": "code",
   "execution_count": null,
   "metadata": {
    "collapsed": true
   },
   "outputs": [],
   "source": [
    "cvoc  = load_obj('data/SPB_voc')"
   ]
  },
  {
   "cell_type": "code",
   "execution_count": null,
   "metadata": {
    "collapsed": false,
    "scrolled": true
   },
   "outputs": [],
   "source": [
    "windows = np.array(range(P.shape[1]))\n",
    "mv_wind_size = int(0.05*len(windows))\n",
    "\n",
    "for term_n in range(P.shape[0]):\n",
    "    print 'term: >>>', voc[ind[term_n]]\n",
    "    plt.plot(windows, P[term_n], 'b-', label='label here')\n",
    "    plt.plot(windows, movingaverage(P[term_n], mv_wind_size), 'r-', label='label here')\n",
    "    plt.show()"
   ]
  },
  {
   "cell_type": "code",
   "execution_count": null,
   "metadata": {
    "collapsed": false
   },
   "outputs": [],
   "source": []
  },
  {
   "cell_type": "code",
   "execution_count": null,
   "metadata": {
    "collapsed": false
   },
   "outputs": [],
   "source": []
  },
  {
   "cell_type": "code",
   "execution_count": null,
   "metadata": {
    "collapsed": false,
    "scrolled": false
   },
   "outputs": [],
   "source": [
    "for i in range(s_sim.shape[0]):\n",
    "    t = s_sim[i]\n",
    "    u = t.argsort()\n",
    "    if t[u[1]] < 2:\n",
    "        for j in u[0:5]:\n",
    "            if t[j] < 2:\n",
    "                print cvoc[j], t[j],\n",
    "        print ''\n",
    "    \n",
    "    "
   ]
  },
  {
   "cell_type": "code",
   "execution_count": null,
   "metadata": {
    "collapsed": false
   },
   "outputs": [],
   "source": []
  },
  {
   "cell_type": "code",
   "execution_count": null,
   "metadata": {
    "collapsed": false
   },
   "outputs": [],
   "source": []
  },
  {
   "cell_type": "code",
   "execution_count": null,
   "metadata": {
    "collapsed": false
   },
   "outputs": [],
   "source": [
    "def plot(ts, t):\n",
    "    plt.plot(windows, ts, 'b-', label='label here')\n",
    "    plt.plot(windows, t * movingaverage(ts, 3), 'r-', label='label here')\n",
    "    plt.show()"
   ]
  },
  {
   "cell_type": "code",
   "execution_count": null,
   "metadata": {
    "collapsed": false
   },
   "outputs": [],
   "source": []
  },
  {
   "cell_type": "code",
   "execution_count": null,
   "metadata": {
    "collapsed": false
   },
   "outputs": [],
   "source": []
  },
  {
   "cell_type": "code",
   "execution_count": null,
   "metadata": {
    "collapsed": false
   },
   "outputs": [],
   "source": []
  },
  {
   "cell_type": "code",
   "execution_count": null,
   "metadata": {
    "collapsed": false
   },
   "outputs": [],
   "source": [
    "L = fastcluster.linkage(sm, method='average')\n",
    "flat_textclust = hierarchy.fcluster(L, 0.5, 'distance')"
   ]
  },
  {
   "cell_type": "code",
   "execution_count": null,
   "metadata": {
    "collapsed": false
   },
   "outputs": [],
   "source": []
  },
  {
   "cell_type": "code",
   "execution_count": null,
   "metadata": {
    "collapsed": false
   },
   "outputs": [],
   "source": []
  },
  {
   "cell_type": "code",
   "execution_count": null,
   "metadata": {
    "collapsed": true
   },
   "outputs": [],
   "source": []
  },
  {
   "cell_type": "code",
   "execution_count": null,
   "metadata": {
    "collapsed": true
   },
   "outputs": [],
   "source": [
    "react = 'отлично, замечательно'"
   ]
  },
  {
   "cell_type": "code",
   "execution_count": null,
   "metadata": {
    "collapsed": true
   },
   "outputs": [],
   "source": []
  }
 ],
 "metadata": {
  "kernelspec": {
   "display_name": "Python 2",
   "language": "python",
   "name": "python2"
  },
  "language_info": {
   "codemirror_mode": {
    "name": "ipython",
    "version": 2
   },
   "file_extension": ".py",
   "mimetype": "text/x-python",
   "name": "python",
   "nbconvert_exporter": "python",
   "pygments_lexer": "ipython2",
   "version": "2.7.6"
  }
 },
 "nbformat": 4,
 "nbformat_minor": 0
}
